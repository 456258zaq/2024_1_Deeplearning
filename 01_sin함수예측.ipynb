{
  "nbformat": 4,
  "nbformat_minor": 0,
  "metadata": {
    "colab": {
      "provenance": [],
      "authorship_tag": "ABX9TyOAfRzlM1n/+QYQ1CFBsyx4",
      "include_colab_link": true
    },
    "kernelspec": {
      "name": "python3",
      "display_name": "Python 3"
    },
    "language_info": {
      "name": "python"
    }
  },
  "cells": [
    {
      "cell_type": "markdown",
      "metadata": {
        "id": "view-in-github",
        "colab_type": "text"
      },
      "source": [
        "<a href=\"https://colab.research.google.com/github/456258zaq/2024_1_Deeplearning/blob/main/01_sin%ED%95%A8%EC%88%98%EC%98%88%EC%B8%A1.ipynb\" target=\"_parent\"><img src=\"https://colab.research.google.com/assets/colab-badge.svg\" alt=\"Open In Colab\"/></a>"
      ]
    },
    {
      "cell_type": "code",
      "execution_count": 1,
      "metadata": {
        "id": "TvvrO89Aj6lk"
      },
      "outputs": [],
      "source": [
        "import math\n",
        "import torch\n",
        "import matplotlib.pyplot as plt"
      ]
    },
    {
      "cell_type": "code",
      "source": [
        "x = torch.linspace(-math.pi,math.pi,1000) # (시작점, 끝점, 분할값)\n",
        "y = torch.sin(x)\n",
        "\n",
        "# 임의의 가중치를 기준으로 y만들기\n",
        "a = torch.randn(())\n",
        "b = torch.randn(())\n",
        "c = torch.randn(())\n",
        "d = torch.randn(())\n",
        "\n",
        "# 3차 다항식 정의\n",
        "y = a*x**3 + b*x**2 + c*x + d"
      ],
      "metadata": {
        "id": "5ZhuzowWj-HS"
      },
      "execution_count": 4,
      "outputs": []
    },
    {
      "cell_type": "code",
      "source": [],
      "metadata": {
        "id": "DkFOov3SkR7_"
      },
      "execution_count": null,
      "outputs": []
    },
    {
      "cell_type": "code",
      "source": [],
      "metadata": {
        "id": "qvT3xWNOkEGJ"
      },
      "execution_count": null,
      "outputs": []
    }
  ]
}