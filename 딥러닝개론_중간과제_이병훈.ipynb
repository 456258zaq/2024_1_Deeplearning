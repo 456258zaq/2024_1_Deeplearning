{
  "nbformat": 4,
  "nbformat_minor": 0,
  "metadata": {
    "colab": {
      "provenance": [],
      "authorship_tag": "ABX9TyPlUJJx6AkW9uaWGcccnge1",
      "include_colab_link": true
    },
    "kernelspec": {
      "name": "python3",
      "display_name": "Python 3"
    },
    "language_info": {
      "name": "python"
    }
  },
  "cells": [
    {
      "cell_type": "markdown",
      "metadata": {
        "id": "view-in-github",
        "colab_type": "text"
      },
      "source": [
        "<a href=\"https://colab.research.google.com/github/456258zaq/2024_1_Deeplearning/blob/main/%EB%94%A5%EB%9F%AC%EB%8B%9D%EA%B0%9C%EB%A1%A0_%EC%A4%91%EA%B0%84%EA%B3%BC%EC%A0%9C_%EC%9D%B4%EB%B3%91%ED%9B%88.ipynb\" target=\"_parent\"><img src=\"https://colab.research.google.com/assets/colab-badge.svg\" alt=\"Open In Colab\"/></a>"
      ]
    },
    {
      "cell_type": "code",
      "execution_count": 35,
      "metadata": {
        "id": "olFS0h-6DLGP"
      },
      "outputs": [],
      "source": [
        "import requests\n",
        "import pandas as pd\n",
        "import numpy as np\n",
        "\n",
        "# Tiger 코스피 # 기준날짜 : 5월 2일\n",
        "list_df = [] # 데이터프레임 저장용 리스트 생성\n",
        "for i in range(1,100): #100페이지까지 조회\n",
        "  url = f\"https://finance.naver.com/item/sise_day.naver?code=277630&page={i}\" # 조회용 url 생성\n",
        "  page = requests.get(url,headers={\"User-Agent\":\n",
        "  \"Mozilla/5.0 (Macintosh; Intel Mac OS X 10_15_7) AppleWebKit/537.36 (KHTML, like Gecko) Chrome/123.0.0.0 Safari/537.36\"}) # request를 위한 header등 셋팅\n",
        "  list_df.append(pd.read_html(page.text)[0]) # 데이터프레임 리스트에 밀어넣기"
      ]
    },
    {
      "cell_type": "code",
      "source": [
        "Tiger_Kospi_df = pd.concat(list_df) # 데이터 만들기\n",
        "Tiger_Kospi_df.head() # 날짜 기준 ~ 24년 5월 2일까지의 데이터"
      ],
      "metadata": {
        "colab": {
          "base_uri": "https://localhost:8080/",
          "height": 206
        },
        "id": "86rIqSGcEP5x",
        "outputId": "8c28ba35-0e32-48c2-f90e-845bee3132ee"
      },
      "execution_count": 41,
      "outputs": [
        {
          "output_type": "execute_result",
          "data": {
            "text/plain": [
              "           날짜       종가      전일비       시가       고가       저가     거래량\n",
              "0         NaN      NaN      NaN      NaN      NaN      NaN     NaN\n",
              "1  2024.05.02  27735.0   하락  95  27700.0  27810.0  27625.0  1270.0\n",
              "2  2024.04.30  27830.0  상승  115  27775.0  27970.0  27775.0  7649.0\n",
              "3  2024.04.29  27715.0  상승  250  27650.0  27730.0  27540.0  2954.0\n",
              "4  2024.04.26  27835.0  상승  270  27770.0  27890.0  27675.0  8969.0"
            ],
            "text/html": [
              "\n",
              "  <div id=\"df-90eb7d42-773b-4474-ac66-383b9e70230a\" class=\"colab-df-container\">\n",
              "    <div>\n",
              "<style scoped>\n",
              "    .dataframe tbody tr th:only-of-type {\n",
              "        vertical-align: middle;\n",
              "    }\n",
              "\n",
              "    .dataframe tbody tr th {\n",
              "        vertical-align: top;\n",
              "    }\n",
              "\n",
              "    .dataframe thead th {\n",
              "        text-align: right;\n",
              "    }\n",
              "</style>\n",
              "<table border=\"1\" class=\"dataframe\">\n",
              "  <thead>\n",
              "    <tr style=\"text-align: right;\">\n",
              "      <th></th>\n",
              "      <th>날짜</th>\n",
              "      <th>종가</th>\n",
              "      <th>전일비</th>\n",
              "      <th>시가</th>\n",
              "      <th>고가</th>\n",
              "      <th>저가</th>\n",
              "      <th>거래량</th>\n",
              "    </tr>\n",
              "  </thead>\n",
              "  <tbody>\n",
              "    <tr>\n",
              "      <th>0</th>\n",
              "      <td>NaN</td>\n",
              "      <td>NaN</td>\n",
              "      <td>NaN</td>\n",
              "      <td>NaN</td>\n",
              "      <td>NaN</td>\n",
              "      <td>NaN</td>\n",
              "      <td>NaN</td>\n",
              "    </tr>\n",
              "    <tr>\n",
              "      <th>1</th>\n",
              "      <td>2024.05.02</td>\n",
              "      <td>27735.0</td>\n",
              "      <td>하락  95</td>\n",
              "      <td>27700.0</td>\n",
              "      <td>27810.0</td>\n",
              "      <td>27625.0</td>\n",
              "      <td>1270.0</td>\n",
              "    </tr>\n",
              "    <tr>\n",
              "      <th>2</th>\n",
              "      <td>2024.04.30</td>\n",
              "      <td>27830.0</td>\n",
              "      <td>상승  115</td>\n",
              "      <td>27775.0</td>\n",
              "      <td>27970.0</td>\n",
              "      <td>27775.0</td>\n",
              "      <td>7649.0</td>\n",
              "    </tr>\n",
              "    <tr>\n",
              "      <th>3</th>\n",
              "      <td>2024.04.29</td>\n",
              "      <td>27715.0</td>\n",
              "      <td>상승  250</td>\n",
              "      <td>27650.0</td>\n",
              "      <td>27730.0</td>\n",
              "      <td>27540.0</td>\n",
              "      <td>2954.0</td>\n",
              "    </tr>\n",
              "    <tr>\n",
              "      <th>4</th>\n",
              "      <td>2024.04.26</td>\n",
              "      <td>27835.0</td>\n",
              "      <td>상승  270</td>\n",
              "      <td>27770.0</td>\n",
              "      <td>27890.0</td>\n",
              "      <td>27675.0</td>\n",
              "      <td>8969.0</td>\n",
              "    </tr>\n",
              "  </tbody>\n",
              "</table>\n",
              "</div>\n",
              "    <div class=\"colab-df-buttons\">\n",
              "\n",
              "  <div class=\"colab-df-container\">\n",
              "    <button class=\"colab-df-convert\" onclick=\"convertToInteractive('df-90eb7d42-773b-4474-ac66-383b9e70230a')\"\n",
              "            title=\"Convert this dataframe to an interactive table.\"\n",
              "            style=\"display:none;\">\n",
              "\n",
              "  <svg xmlns=\"http://www.w3.org/2000/svg\" height=\"24px\" viewBox=\"0 -960 960 960\">\n",
              "    <path d=\"M120-120v-720h720v720H120Zm60-500h600v-160H180v160Zm220 220h160v-160H400v160Zm0 220h160v-160H400v160ZM180-400h160v-160H180v160Zm440 0h160v-160H620v160ZM180-180h160v-160H180v160Zm440 0h160v-160H620v160Z\"/>\n",
              "  </svg>\n",
              "    </button>\n",
              "\n",
              "  <style>\n",
              "    .colab-df-container {\n",
              "      display:flex;\n",
              "      gap: 12px;\n",
              "    }\n",
              "\n",
              "    .colab-df-convert {\n",
              "      background-color: #E8F0FE;\n",
              "      border: none;\n",
              "      border-radius: 50%;\n",
              "      cursor: pointer;\n",
              "      display: none;\n",
              "      fill: #1967D2;\n",
              "      height: 32px;\n",
              "      padding: 0 0 0 0;\n",
              "      width: 32px;\n",
              "    }\n",
              "\n",
              "    .colab-df-convert:hover {\n",
              "      background-color: #E2EBFA;\n",
              "      box-shadow: 0px 1px 2px rgba(60, 64, 67, 0.3), 0px 1px 3px 1px rgba(60, 64, 67, 0.15);\n",
              "      fill: #174EA6;\n",
              "    }\n",
              "\n",
              "    .colab-df-buttons div {\n",
              "      margin-bottom: 4px;\n",
              "    }\n",
              "\n",
              "    [theme=dark] .colab-df-convert {\n",
              "      background-color: #3B4455;\n",
              "      fill: #D2E3FC;\n",
              "    }\n",
              "\n",
              "    [theme=dark] .colab-df-convert:hover {\n",
              "      background-color: #434B5C;\n",
              "      box-shadow: 0px 1px 3px 1px rgba(0, 0, 0, 0.15);\n",
              "      filter: drop-shadow(0px 1px 2px rgba(0, 0, 0, 0.3));\n",
              "      fill: #FFFFFF;\n",
              "    }\n",
              "  </style>\n",
              "\n",
              "    <script>\n",
              "      const buttonEl =\n",
              "        document.querySelector('#df-90eb7d42-773b-4474-ac66-383b9e70230a button.colab-df-convert');\n",
              "      buttonEl.style.display =\n",
              "        google.colab.kernel.accessAllowed ? 'block' : 'none';\n",
              "\n",
              "      async function convertToInteractive(key) {\n",
              "        const element = document.querySelector('#df-90eb7d42-773b-4474-ac66-383b9e70230a');\n",
              "        const dataTable =\n",
              "          await google.colab.kernel.invokeFunction('convertToInteractive',\n",
              "                                                    [key], {});\n",
              "        if (!dataTable) return;\n",
              "\n",
              "        const docLinkHtml = 'Like what you see? Visit the ' +\n",
              "          '<a target=\"_blank\" href=https://colab.research.google.com/notebooks/data_table.ipynb>data table notebook</a>'\n",
              "          + ' to learn more about interactive tables.';\n",
              "        element.innerHTML = '';\n",
              "        dataTable['output_type'] = 'display_data';\n",
              "        await google.colab.output.renderOutput(dataTable, element);\n",
              "        const docLink = document.createElement('div');\n",
              "        docLink.innerHTML = docLinkHtml;\n",
              "        element.appendChild(docLink);\n",
              "      }\n",
              "    </script>\n",
              "  </div>\n",
              "\n",
              "\n",
              "<div id=\"df-625b65ae-9117-40e8-a059-8be699702c7c\">\n",
              "  <button class=\"colab-df-quickchart\" onclick=\"quickchart('df-625b65ae-9117-40e8-a059-8be699702c7c')\"\n",
              "            title=\"Suggest charts\"\n",
              "            style=\"display:none;\">\n",
              "\n",
              "<svg xmlns=\"http://www.w3.org/2000/svg\" height=\"24px\"viewBox=\"0 0 24 24\"\n",
              "     width=\"24px\">\n",
              "    <g>\n",
              "        <path d=\"M19 3H5c-1.1 0-2 .9-2 2v14c0 1.1.9 2 2 2h14c1.1 0 2-.9 2-2V5c0-1.1-.9-2-2-2zM9 17H7v-7h2v7zm4 0h-2V7h2v10zm4 0h-2v-4h2v4z\"/>\n",
              "    </g>\n",
              "</svg>\n",
              "  </button>\n",
              "\n",
              "<style>\n",
              "  .colab-df-quickchart {\n",
              "      --bg-color: #E8F0FE;\n",
              "      --fill-color: #1967D2;\n",
              "      --hover-bg-color: #E2EBFA;\n",
              "      --hover-fill-color: #174EA6;\n",
              "      --disabled-fill-color: #AAA;\n",
              "      --disabled-bg-color: #DDD;\n",
              "  }\n",
              "\n",
              "  [theme=dark] .colab-df-quickchart {\n",
              "      --bg-color: #3B4455;\n",
              "      --fill-color: #D2E3FC;\n",
              "      --hover-bg-color: #434B5C;\n",
              "      --hover-fill-color: #FFFFFF;\n",
              "      --disabled-bg-color: #3B4455;\n",
              "      --disabled-fill-color: #666;\n",
              "  }\n",
              "\n",
              "  .colab-df-quickchart {\n",
              "    background-color: var(--bg-color);\n",
              "    border: none;\n",
              "    border-radius: 50%;\n",
              "    cursor: pointer;\n",
              "    display: none;\n",
              "    fill: var(--fill-color);\n",
              "    height: 32px;\n",
              "    padding: 0;\n",
              "    width: 32px;\n",
              "  }\n",
              "\n",
              "  .colab-df-quickchart:hover {\n",
              "    background-color: var(--hover-bg-color);\n",
              "    box-shadow: 0 1px 2px rgba(60, 64, 67, 0.3), 0 1px 3px 1px rgba(60, 64, 67, 0.15);\n",
              "    fill: var(--button-hover-fill-color);\n",
              "  }\n",
              "\n",
              "  .colab-df-quickchart-complete:disabled,\n",
              "  .colab-df-quickchart-complete:disabled:hover {\n",
              "    background-color: var(--disabled-bg-color);\n",
              "    fill: var(--disabled-fill-color);\n",
              "    box-shadow: none;\n",
              "  }\n",
              "\n",
              "  .colab-df-spinner {\n",
              "    border: 2px solid var(--fill-color);\n",
              "    border-color: transparent;\n",
              "    border-bottom-color: var(--fill-color);\n",
              "    animation:\n",
              "      spin 1s steps(1) infinite;\n",
              "  }\n",
              "\n",
              "  @keyframes spin {\n",
              "    0% {\n",
              "      border-color: transparent;\n",
              "      border-bottom-color: var(--fill-color);\n",
              "      border-left-color: var(--fill-color);\n",
              "    }\n",
              "    20% {\n",
              "      border-color: transparent;\n",
              "      border-left-color: var(--fill-color);\n",
              "      border-top-color: var(--fill-color);\n",
              "    }\n",
              "    30% {\n",
              "      border-color: transparent;\n",
              "      border-left-color: var(--fill-color);\n",
              "      border-top-color: var(--fill-color);\n",
              "      border-right-color: var(--fill-color);\n",
              "    }\n",
              "    40% {\n",
              "      border-color: transparent;\n",
              "      border-right-color: var(--fill-color);\n",
              "      border-top-color: var(--fill-color);\n",
              "    }\n",
              "    60% {\n",
              "      border-color: transparent;\n",
              "      border-right-color: var(--fill-color);\n",
              "    }\n",
              "    80% {\n",
              "      border-color: transparent;\n",
              "      border-right-color: var(--fill-color);\n",
              "      border-bottom-color: var(--fill-color);\n",
              "    }\n",
              "    90% {\n",
              "      border-color: transparent;\n",
              "      border-bottom-color: var(--fill-color);\n",
              "    }\n",
              "  }\n",
              "</style>\n",
              "\n",
              "  <script>\n",
              "    async function quickchart(key) {\n",
              "      const quickchartButtonEl =\n",
              "        document.querySelector('#' + key + ' button');\n",
              "      quickchartButtonEl.disabled = true;  // To prevent multiple clicks.\n",
              "      quickchartButtonEl.classList.add('colab-df-spinner');\n",
              "      try {\n",
              "        const charts = await google.colab.kernel.invokeFunction(\n",
              "            'suggestCharts', [key], {});\n",
              "      } catch (error) {\n",
              "        console.error('Error during call to suggestCharts:', error);\n",
              "      }\n",
              "      quickchartButtonEl.classList.remove('colab-df-spinner');\n",
              "      quickchartButtonEl.classList.add('colab-df-quickchart-complete');\n",
              "    }\n",
              "    (() => {\n",
              "      let quickchartButtonEl =\n",
              "        document.querySelector('#df-625b65ae-9117-40e8-a059-8be699702c7c button');\n",
              "      quickchartButtonEl.style.display =\n",
              "        google.colab.kernel.accessAllowed ? 'block' : 'none';\n",
              "    })();\n",
              "  </script>\n",
              "</div>\n",
              "    </div>\n",
              "  </div>\n"
            ],
            "application/vnd.google.colaboratory.intrinsic+json": {
              "type": "dataframe",
              "variable_name": "Tiger_Kospi_df",
              "summary": "{\n  \"name\": \"Tiger_Kospi_df\",\n  \"rows\": 1485,\n  \"fields\": [\n    {\n      \"column\": \"\\ub0a0\\uc9dc\",\n      \"properties\": {\n        \"dtype\": \"date\",\n        \"min\": \"2020-04-28 00:00:00\",\n        \"max\": \"2024-05-02 00:00:00\",\n        \"num_unique_values\": 990,\n        \"samples\": [\n          \"2023.06.20\",\n          \"2022.12.26\",\n          \"2022.04.20\"\n        ],\n        \"semantic_type\": \"\",\n        \"description\": \"\"\n      }\n    },\n    {\n      \"column\": \"\\uc885\\uac00\",\n      \"properties\": {\n        \"dtype\": \"number\",\n        \"std\": 3267.4621835706116,\n        \"min\": 19090.0,\n        \"max\": 33550.0,\n        \"num_unique_values\": 791,\n        \"samples\": [\n          25600.0,\n          27585.0,\n          23740.0\n        ],\n        \"semantic_type\": \"\",\n        \"description\": \"\"\n      }\n    },\n    {\n      \"column\": \"\\uc804\\uc77c\\ube44\",\n      \"properties\": {\n        \"dtype\": \"category\",\n        \"num_unique_values\": 239,\n        \"samples\": [\n          \"\\uc0c1\\uc2b9  215\",\n          \"\\uc0c1\\uc2b9  10\",\n          \"\\ud558\\ub77d  435\"\n        ],\n        \"semantic_type\": \"\",\n        \"description\": \"\"\n      }\n    },\n    {\n      \"column\": \"\\uc2dc\\uac00\",\n      \"properties\": {\n        \"dtype\": \"number\",\n        \"std\": 3268.964707551154,\n        \"min\": 19110.0,\n        \"max\": 33555.0,\n        \"num_unique_values\": 785,\n        \"samples\": [\n          20905.0,\n          27780.0,\n          26135.0\n        ],\n        \"semantic_type\": \"\",\n        \"description\": \"\"\n      }\n    },\n    {\n      \"column\": \"\\uace0\\uac00\",\n      \"properties\": {\n        \"dtype\": \"number\",\n        \"std\": 3276.4016232909376,\n        \"min\": 19305.0,\n        \"max\": 33625.0,\n        \"num_unique_values\": 774,\n        \"samples\": [\n          27390.0,\n          32595.0,\n          32175.0\n        ],\n        \"semantic_type\": \"\",\n        \"description\": \"\"\n      }\n    },\n    {\n      \"column\": \"\\uc800\\uac00\",\n      \"properties\": {\n        \"dtype\": \"number\",\n        \"std\": 3263.7169359985223,\n        \"min\": 19045.0,\n        \"max\": 33340.0,\n        \"num_unique_values\": 777,\n        \"samples\": [\n          32200.0,\n          32470.0,\n          30530.0\n        ],\n        \"semantic_type\": \"\",\n        \"description\": \"\"\n      }\n    },\n    {\n      \"column\": \"\\uac70\\ub798\\ub7c9\",\n      \"properties\": {\n        \"dtype\": \"number\",\n        \"std\": 147760.840021023,\n        \"min\": 13.0,\n        \"max\": 2272921.0,\n        \"num_unique_values\": 967,\n        \"samples\": [\n          13049.0,\n          14471.0,\n          41557.0\n        ],\n        \"semantic_type\": \"\",\n        \"description\": \"\"\n      }\n    }\n  ]\n}"
            }
          },
          "metadata": {},
          "execution_count": 41
        }
      ]
    },
    {
      "cell_type": "code",
      "source": [
        "Tiger_Kospi_df.dropna(inplace=True) # 인덱스 내 Null 값 제거 (보통 거래일이 없는 경우)\n",
        "Tiger_Kospi_df.set_index(\"날짜\",inplace=True) # 날짜를 index 로\n",
        "Tiger_Kospi_df.drop(columns=[\"전일비\"],inplace=True) # 전일비의 데이터는 삭제"
      ],
      "metadata": {
        "id": "5VUjZvaiFEKA"
      },
      "execution_count": 42,
      "outputs": []
    },
    {
      "cell_type": "code",
      "source": [
        "import matplotlib.pyplot as plt # 시각화용 라이브러리\n",
        "print(Tiger_Kospi_df.shape)\n",
        "plt.plot(Tiger_Kospi_df[\"종가\"]) # 종가에 대한 예측을 진행할 예정"
      ],
      "metadata": {
        "colab": {
          "base_uri": "https://localhost:8080/",
          "height": 466
        },
        "id": "sB54UAKjF9at",
        "outputId": "24ca0d5d-6800-4fa0-a4a8-3a8634b9658c"
      },
      "execution_count": 43,
      "outputs": [
        {
          "output_type": "stream",
          "name": "stdout",
          "text": [
            "(990, 5)\n"
          ]
        },
        {
          "output_type": "execute_result",
          "data": {
            "text/plain": [
              "[<matplotlib.lines.Line2D at 0x7f3cf82fe770>]"
            ]
          },
          "metadata": {},
          "execution_count": 43
        },
        {
          "output_type": "display_data",
          "data": {
            "text/plain": [
              "<Figure size 640x480 with 1 Axes>"
            ],
            "image/png": "[encoded data removed]"
          },
          "metadata": {}
        }
      ]
    },
    {
      "cell_type": "code",
      "source": [
        "# 시계열 예측을 위한 모델은 통계적 모델 중 AR, MA, ARMA, ARIMA 등 다양하게 존재함\n",
        "# 그 외의 딥러닝 계열에서는 RNN, LSTM, GRU, Transformer 등이 존재하며, CNN 활용한 모델 등 다양한 모델들이 있음\n",
        "# 다만 차이점은 딥러닝의 경우, 장기시계열의 예측이 좋은 경우가 존재하며, ARIMA의 경우 장기예측에서 성능이 떨어지는 경우가 존재함\n",
        "# 우선, 통계 대표 모델인 ARIMA 의 장기시계열을 예측하여 비교하고 (단변량)\n",
        "# LSTM 을 기반으로한 장기시계열 예측 (다변량)\n",
        "# Transformer를 기반으로 한 장기 시계열 예측 (다변량)으로 진행할 계획임"
      ],
      "metadata": {
        "id": "tvUw2v47GtUK"
      },
      "execution_count": 39,
      "outputs": []
    },
    {
      "cell_type": "code",
      "source": [
        "# ARIMA 모델은 과거에 p,q,d 라는 하이퍼파라미터는 직접 수정하면서 테스트 해야 했음\n",
        "# 참조 : https://dong-guri.tistory.com/9\n",
        "# p는 AR 모델의 하이퍼 파라미터\n",
        "# d는 MA 모델의 하이퍼 파라미터\n",
        "# q는 I 모델의 하이퍼 파라미터임\n",
        "\n",
        "# AR은 얼마나 전의 데이터를 참고하여, 현재의 기준점을 반영할 것인지에 대한 파라미터\n",
        "# MA는 이동 평균 (window 방식으로 평균을 내는 방법임)\n",
        "# I는 차분을 통하여, 데이터의 정상성을 만들고 이를 기반으로 통계모델에 사용할 수 있도록 적합하는 방법임\n",
        "\n"
      ],
      "metadata": {
        "id": "raiT-jHCIYHV"
      },
      "execution_count": 40,
      "outputs": []
    },
    {
      "cell_type": "code",
      "source": [
        "train_df = Tiger_Kospi_df.iloc[:int(len(Tiger_Kospi_df)*0.8)] # train Set\n",
        "test_df = Tiger_Kospi_df.iloc[int(len(Tiger_Kospi_df)*0.8):] # test Set"
      ],
      "metadata": {
        "id": "Xurzt9CWMt4T"
      },
      "execution_count": 44,
      "outputs": []
    },
    {
      "cell_type": "code",
      "source": [
        "# auto arima 모델 사용\n",
        "# 출처 : https://assaeunji.github.io/statistics/2021-09-08-arimapdq/"
      ],
      "metadata": {
        "id": "3THD5vaoMt0Z"
      },
      "execution_count": 45,
      "outputs": []
    },
    {
      "cell_type": "code",
      "source": [],
      "metadata": {
        "id": "h20G6I16Mtv-"
      },
      "execution_count": null,
      "outputs": []
    },
    {
      "cell_type": "code",
      "source": [],
      "metadata": {
        "id": "P5Br_vJXMskE"
      },
      "execution_count": 33,
      "outputs": []
    }
  ]
}