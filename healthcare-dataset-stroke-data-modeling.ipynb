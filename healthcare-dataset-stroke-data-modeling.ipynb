{
 "cells": [
  {
   "cell_type": "code",
   "execution_count": 1,
   "id": "c3493046",
   "metadata": {
    "_cell_guid": "b1076dfc-b9ad-4769-8c92-a6c4dae69d19",
    "_uuid": "8f2839f25d086af736a60e9eeb907d3b93b6e0e5",
    "execution": {
     "iopub.execute_input": "2022-06-07T13:40:31.858810Z",
     "iopub.status.busy": "2022-06-07T13:40:31.857821Z",
     "iopub.status.idle": "2022-06-07T13:40:31.876450Z",
     "shell.execute_reply": "2022-06-07T13:40:31.875504Z"
    },
    "papermill": {
     "duration": 0.029601,
     "end_time": "2022-06-07T13:40:31.881178",
     "exception": false,
     "start_time": "2022-06-07T13:40:31.851577",
     "status": "completed"
    },
    "tags": []
   },
   "outputs": [
    {
     "name": "stdout",
     "output_type": "stream",
     "text": [
      "/kaggle/input/stroke-prediction-dataset/healthcare-dataset-stroke-data.csv\n"
     ]
    }
   ],
   "source": [
    "# This Python 3 environment comes with many helpful analytics libraries installed\n",
    "# It is defined by the kaggle/python Docker image: https://github.com/kaggle/docker-python\n",
    "# For example, here's several helpful packages to load\n",
    "\n",
    "import numpy as np # linear algebra\n",
    "import pandas as pd # data processing, CSV file I/O (e.g. pd.read_csv)\n",
    "\n",
    "# Input data files are available in the read-only \"../input/\" directory\n",
    "# For example, running this (by clicking run or pressing Shift+Enter) will list all files under the input directory\n",
    "\n",
    "import os\n",
    "for dirname, _, filenames in os.walk('/kaggle/input'):\n",
    "    for filename in filenames:\n",
    "        print(os.path.join(dirname, filename))\n",
    "\n",
    "# You can write up to 20GB to the current directory (/kaggle/working/) that gets preserved as output when you create a version using \"Save & Run All\" \n",
    "# You can also write temporary files to /kaggle/temp/, but they won't be saved outside of the current session"
   ]
  },
  {
   "cell_type": "code",
   "execution_count": 2,
   "id": "9895e9aa",
   "metadata": {
    "execution": {
     "iopub.execute_input": "2022-06-07T13:40:31.890777Z",
     "iopub.status.busy": "2022-06-07T13:40:31.889892Z",
     "iopub.status.idle": "2022-06-07T13:40:31.925693Z",
     "shell.execute_reply": "2022-06-07T13:40:31.924845Z"
    },
    "papermill": {
     "duration": 0.042727,
     "end_time": "2022-06-07T13:40:31.927880",
     "exception": false,
     "start_time": "2022-06-07T13:40:31.885153",
     "status": "completed"
    },
    "tags": []
   },
   "outputs": [],
   "source": [
    "import pandas as pd\n",
    "import numpy as np\n",
    "import matplotlib.pyplot as plt\n",
    "df = pd.read_csv(r\"/kaggle/input/stroke-prediction-dataset/healthcare-dataset-stroke-data.csv\",index_col=\"id\")"
   ]
  },
  {
   "cell_type": "code",
   "execution_count": 3,
   "id": "a3b304a1",
   "metadata": {
    "execution": {
     "iopub.execute_input": "2022-06-07T13:40:31.937148Z",
     "iopub.status.busy": "2022-06-07T13:40:31.936757Z",
     "iopub.status.idle": "2022-06-07T13:40:31.957296Z",
     "shell.execute_reply": "2022-06-07T13:40:31.956331Z"
    },
    "papermill": {
     "duration": 0.027393,
     "end_time": "2022-06-07T13:40:31.959163",
     "exception": false,
     "start_time": "2022-06-07T13:40:31.931770",
     "status": "completed"
    },
    "tags": []
   },
   "outputs": [
    {
     "data": {
      "text/html": [
       "<div>\n",
       "<style scoped>\n",
       "    .dataframe tbody tr th:only-of-type {\n",
       "        vertical-align: middle;\n",
       "    }\n",
       "\n",
       "    .dataframe tbody tr th {\n",
       "        vertical-align: top;\n",
       "    }\n",
       "\n",
       "    .dataframe thead th {\n",
       "        text-align: right;\n",
       "    }\n",
       "</style>\n",
       "<table border=\"1\" class=\"dataframe\">\n",
       "  <thead>\n",
       "    <tr style=\"text-align: right;\">\n",
       "      <th></th>\n",
       "      <th>gender</th>\n",
       "      <th>age</th>\n",
       "      <th>hypertension</th>\n",
       "      <th>heart_disease</th>\n",
       "      <th>ever_married</th>\n",
       "      <th>work_type</th>\n",
       "      <th>Residence_type</th>\n",
       "      <th>avg_glucose_level</th>\n",
       "      <th>bmi</th>\n",
       "      <th>smoking_status</th>\n",
       "      <th>stroke</th>\n",
       "    </tr>\n",
       "    <tr>\n",
       "      <th>id</th>\n",
       "      <th></th>\n",
       "      <th></th>\n",
       "      <th></th>\n",
       "      <th></th>\n",
       "      <th></th>\n",
       "      <th></th>\n",
       "      <th></th>\n",
       "      <th></th>\n",
       "      <th></th>\n",
       "      <th></th>\n",
       "      <th></th>\n",
       "    </tr>\n",
       "  </thead>\n",
       "  <tbody>\n",
       "    <tr>\n",
       "      <th>9046</th>\n",
       "      <td>Male</td>\n",
       "      <td>67.0</td>\n",
       "      <td>0</td>\n",
       "      <td>1</td>\n",
       "      <td>Yes</td>\n",
       "      <td>Private</td>\n",
       "      <td>Urban</td>\n",
       "      <td>228.69</td>\n",
       "      <td>36.6</td>\n",
       "      <td>formerly smoked</td>\n",
       "      <td>1</td>\n",
       "    </tr>\n",
       "    <tr>\n",
       "      <th>51676</th>\n",
       "      <td>Female</td>\n",
       "      <td>61.0</td>\n",
       "      <td>0</td>\n",
       "      <td>0</td>\n",
       "      <td>Yes</td>\n",
       "      <td>Self-employed</td>\n",
       "      <td>Rural</td>\n",
       "      <td>202.21</td>\n",
       "      <td>NaN</td>\n",
       "      <td>never smoked</td>\n",
       "      <td>1</td>\n",
       "    </tr>\n",
       "    <tr>\n",
       "      <th>31112</th>\n",
       "      <td>Male</td>\n",
       "      <td>80.0</td>\n",
       "      <td>0</td>\n",
       "      <td>1</td>\n",
       "      <td>Yes</td>\n",
       "      <td>Private</td>\n",
       "      <td>Rural</td>\n",
       "      <td>105.92</td>\n",
       "      <td>32.5</td>\n",
       "      <td>never smoked</td>\n",
       "      <td>1</td>\n",
       "    </tr>\n",
       "    <tr>\n",
       "      <th>60182</th>\n",
       "      <td>Female</td>\n",
       "      <td>49.0</td>\n",
       "      <td>0</td>\n",
       "      <td>0</td>\n",
       "      <td>Yes</td>\n",
       "      <td>Private</td>\n",
       "      <td>Urban</td>\n",
       "      <td>171.23</td>\n",
       "      <td>34.4</td>\n",
       "      <td>smokes</td>\n",
       "      <td>1</td>\n",
       "    </tr>\n",
       "    <tr>\n",
       "      <th>1665</th>\n",
       "      <td>Female</td>\n",
       "      <td>79.0</td>\n",
       "      <td>1</td>\n",
       "      <td>0</td>\n",
       "      <td>Yes</td>\n",
       "      <td>Self-employed</td>\n",
       "      <td>Rural</td>\n",
       "      <td>174.12</td>\n",
       "      <td>24.0</td>\n",
       "      <td>never smoked</td>\n",
       "      <td>1</td>\n",
       "    </tr>\n",
       "  </tbody>\n",
       "</table>\n",
       "</div>"
      ],
      "text/plain": [
       "       gender   age  hypertension  heart_disease ever_married      work_type  \\\n",
       "id                                                                             \n",
       "9046     Male  67.0             0              1          Yes        Private   \n",
       "51676  Female  61.0             0              0          Yes  Self-employed   \n",
       "31112    Male  80.0             0              1          Yes        Private   \n",
       "60182  Female  49.0             0              0          Yes        Private   \n",
       "1665   Female  79.0             1              0          Yes  Self-employed   \n",
       "\n",
       "      Residence_type  avg_glucose_level   bmi   smoking_status  stroke  \n",
       "id                                                                      \n",
       "9046           Urban             228.69  36.6  formerly smoked       1  \n",
       "51676          Rural             202.21   NaN     never smoked       1  \n",
       "31112          Rural             105.92  32.5     never smoked       1  \n",
       "60182          Urban             171.23  34.4           smokes       1  \n",
       "1665           Rural             174.12  24.0     never smoked       1  "
      ]
     },
     "execution_count": 3,
     "metadata": {},
     "output_type": "execute_result"
    }
   ],
   "source": [
    "df.head()"
   ]
  },
  {
   "cell_type": "code",
   "execution_count": 4,
   "id": "ce88680a",
   "metadata": {
    "execution": {
     "iopub.execute_input": "2022-06-07T13:40:31.968703Z",
     "iopub.status.busy": "2022-06-07T13:40:31.967995Z",
     "iopub.status.idle": "2022-06-07T13:40:31.985436Z",
     "shell.execute_reply": "2022-06-07T13:40:31.984492Z"
    },
    "papermill": {
     "duration": 0.024246,
     "end_time": "2022-06-07T13:40:31.987351",
     "exception": false,
     "start_time": "2022-06-07T13:40:31.963105",
     "status": "completed"
    },
    "tags": []
   },
   "outputs": [
    {
     "name": "stdout",
     "output_type": "stream",
     "text": [
      "<class 'pandas.core.frame.DataFrame'>\n",
      "Int64Index: 5110 entries, 9046 to 44679\n",
      "Data columns (total 11 columns):\n",
      " #   Column             Non-Null Count  Dtype  \n",
      "---  ------             --------------  -----  \n",
      " 0   gender             5110 non-null   object \n",
      " 1   age                5110 non-null   float64\n",
      " 2   hypertension       5110 non-null   int64  \n",
      " 3   heart_disease      5110 non-null   int64  \n",
      " 4   ever_married       5110 non-null   object \n",
      " 5   work_type          5110 non-null   object \n",
      " 6   Residence_type     5110 non-null   object \n",
      " 7   avg_glucose_level  5110 non-null   float64\n",
      " 8   bmi                4909 non-null   float64\n",
      " 9   smoking_status     5110 non-null   object \n",
      " 10  stroke             5110 non-null   int64  \n",
      "dtypes: float64(3), int64(3), object(5)\n",
      "memory usage: 479.1+ KB\n"
     ]
    }
   ],
   "source": [
    "df.info() # bmi null"
   ]
  },
  {
   "cell_type": "code",
   "execution_count": 5,
   "id": "ac64c635",
   "metadata": {
    "execution": {
     "iopub.execute_input": "2022-06-07T13:40:31.997399Z",
     "iopub.status.busy": "2022-06-07T13:40:31.996454Z",
     "iopub.status.idle": "2022-06-07T13:40:32.012545Z",
     "shell.execute_reply": "2022-06-07T13:40:32.011780Z"
    },
    "papermill": {
     "duration": 0.023284,
     "end_time": "2022-06-07T13:40:32.014648",
     "exception": false,
     "start_time": "2022-06-07T13:40:31.991364",
     "status": "completed"
    },
    "tags": []
   },
   "outputs": [],
   "source": [
    "df[\"ever_married\"] = np.where(df[\"ever_married\"]==\"Yes\",1,0)\n",
    "df[\"gender\"] = np.where(df[\"gender\"]==\"Male\",0,1)\n",
    "df_sub = pd.get_dummies(df,columns=[\"work_type\",\"Residence_type\",\"smoking_status\"])"
   ]
  },
  {
   "cell_type": "code",
   "execution_count": 6,
   "id": "5f05db75",
   "metadata": {
    "execution": {
     "iopub.execute_input": "2022-06-07T13:40:32.024219Z",
     "iopub.status.busy": "2022-06-07T13:40:32.023557Z",
     "iopub.status.idle": "2022-06-07T13:40:33.309997Z",
     "shell.execute_reply": "2022-06-07T13:40:33.308921Z"
    },
    "papermill": {
     "duration": 1.29453,
     "end_time": "2022-06-07T13:40:33.313228",
     "exception": false,
     "start_time": "2022-06-07T13:40:32.018698",
     "status": "completed"
    },
    "tags": []
   },
   "outputs": [],
   "source": [
    "from sklearn.impute import KNNImputer\n",
    "\n",
    "imputer = KNNImputer()\n",
    "data_fill = pd.DataFrame(imputer.fit_transform(df_sub),columns=df_sub.columns)"
   ]
  },
  {
   "cell_type": "code",
   "execution_count": 7,
   "id": "db1304fe",
   "metadata": {
    "execution": {
     "iopub.execute_input": "2022-06-07T13:40:33.327174Z",
     "iopub.status.busy": "2022-06-07T13:40:33.326792Z",
     "iopub.status.idle": "2022-06-07T13:40:33.339975Z",
     "shell.execute_reply": "2022-06-07T13:40:33.338344Z"
    },
    "papermill": {
     "duration": 0.020959,
     "end_time": "2022-06-07T13:40:33.342356",
     "exception": false,
     "start_time": "2022-06-07T13:40:33.321397",
     "status": "completed"
    },
    "tags": []
   },
   "outputs": [
    {
     "name": "stdout",
     "output_type": "stream",
     "text": [
      "<class 'pandas.core.frame.DataFrame'>\n",
      "RangeIndex: 5110 entries, 0 to 5109\n",
      "Data columns (total 19 columns):\n",
      " #   Column                          Non-Null Count  Dtype  \n",
      "---  ------                          --------------  -----  \n",
      " 0   gender                          5110 non-null   float64\n",
      " 1   age                             5110 non-null   float64\n",
      " 2   hypertension                    5110 non-null   float64\n",
      " 3   heart_disease                   5110 non-null   float64\n",
      " 4   ever_married                    5110 non-null   float64\n",
      " 5   avg_glucose_level               5110 non-null   float64\n",
      " 6   bmi                             5110 non-null   float64\n",
      " 7   stroke                          5110 non-null   float64\n",
      " 8   work_type_Govt_job              5110 non-null   float64\n",
      " 9   work_type_Never_worked          5110 non-null   float64\n",
      " 10  work_type_Private               5110 non-null   float64\n",
      " 11  work_type_Self-employed         5110 non-null   float64\n",
      " 12  work_type_children              5110 non-null   float64\n",
      " 13  Residence_type_Rural            5110 non-null   float64\n",
      " 14  Residence_type_Urban            5110 non-null   float64\n",
      " 15  smoking_status_Unknown          5110 non-null   float64\n",
      " 16  smoking_status_formerly smoked  5110 non-null   float64\n",
      " 17  smoking_status_never smoked     5110 non-null   float64\n",
      " 18  smoking_status_smokes           5110 non-null   float64\n",
      "dtypes: float64(19)\n",
      "memory usage: 758.6 KB\n"
     ]
    }
   ],
   "source": [
    "data_fill.info()"
   ]
  },
  {
   "cell_type": "code",
   "execution_count": 8,
   "id": "20b49adb",
   "metadata": {
    "execution": {
     "iopub.execute_input": "2022-06-07T13:40:33.352238Z",
     "iopub.status.busy": "2022-06-07T13:40:33.351847Z",
     "iopub.status.idle": "2022-06-07T13:40:33.410978Z",
     "shell.execute_reply": "2022-06-07T13:40:33.409985Z"
    },
    "papermill": {
     "duration": 0.066052,
     "end_time": "2022-06-07T13:40:33.412894",
     "exception": false,
     "start_time": "2022-06-07T13:40:33.346842",
     "status": "completed"
    },
    "tags": []
   },
   "outputs": [
    {
     "data": {
      "text/html": [
       "<div>\n",
       "<style scoped>\n",
       "    .dataframe tbody tr th:only-of-type {\n",
       "        vertical-align: middle;\n",
       "    }\n",
       "\n",
       "    .dataframe tbody tr th {\n",
       "        vertical-align: top;\n",
       "    }\n",
       "\n",
       "    .dataframe thead th {\n",
       "        text-align: right;\n",
       "    }\n",
       "</style>\n",
       "<table border=\"1\" class=\"dataframe\">\n",
       "  <thead>\n",
       "    <tr style=\"text-align: right;\">\n",
       "      <th></th>\n",
       "      <th>gender</th>\n",
       "      <th>age</th>\n",
       "      <th>hypertension</th>\n",
       "      <th>heart_disease</th>\n",
       "      <th>ever_married</th>\n",
       "      <th>avg_glucose_level</th>\n",
       "      <th>bmi</th>\n",
       "      <th>stroke</th>\n",
       "      <th>work_type_Govt_job</th>\n",
       "      <th>work_type_Never_worked</th>\n",
       "      <th>work_type_Private</th>\n",
       "      <th>work_type_Self-employed</th>\n",
       "      <th>work_type_children</th>\n",
       "      <th>Residence_type_Rural</th>\n",
       "      <th>Residence_type_Urban</th>\n",
       "      <th>smoking_status_Unknown</th>\n",
       "      <th>smoking_status_formerly smoked</th>\n",
       "      <th>smoking_status_never smoked</th>\n",
       "      <th>smoking_status_smokes</th>\n",
       "    </tr>\n",
       "  </thead>\n",
       "  <tbody>\n",
       "    <tr>\n",
       "      <th>count</th>\n",
       "      <td>5110.000000</td>\n",
       "      <td>5110.000000</td>\n",
       "      <td>5110.000000</td>\n",
       "      <td>5110.000000</td>\n",
       "      <td>5110.000000</td>\n",
       "      <td>5110.000000</td>\n",
       "      <td>5110.000000</td>\n",
       "      <td>5110.000000</td>\n",
       "      <td>5110.000000</td>\n",
       "      <td>5110.000000</td>\n",
       "      <td>5110.000000</td>\n",
       "      <td>5110.000000</td>\n",
       "      <td>5110.000000</td>\n",
       "      <td>5110.000000</td>\n",
       "      <td>5110.000000</td>\n",
       "      <td>5110.000000</td>\n",
       "      <td>5110.000000</td>\n",
       "      <td>5110.000000</td>\n",
       "      <td>5110.000000</td>\n",
       "    </tr>\n",
       "    <tr>\n",
       "      <th>mean</th>\n",
       "      <td>0.586106</td>\n",
       "      <td>43.226614</td>\n",
       "      <td>0.097456</td>\n",
       "      <td>0.054012</td>\n",
       "      <td>0.656164</td>\n",
       "      <td>106.147677</td>\n",
       "      <td>28.941640</td>\n",
       "      <td>0.048728</td>\n",
       "      <td>0.128571</td>\n",
       "      <td>0.004305</td>\n",
       "      <td>0.572407</td>\n",
       "      <td>0.160274</td>\n",
       "      <td>0.134442</td>\n",
       "      <td>0.491977</td>\n",
       "      <td>0.508023</td>\n",
       "      <td>0.302153</td>\n",
       "      <td>0.173190</td>\n",
       "      <td>0.370254</td>\n",
       "      <td>0.154403</td>\n",
       "    </tr>\n",
       "    <tr>\n",
       "      <th>std</th>\n",
       "      <td>0.492578</td>\n",
       "      <td>22.612647</td>\n",
       "      <td>0.296607</td>\n",
       "      <td>0.226063</td>\n",
       "      <td>0.475034</td>\n",
       "      <td>45.283560</td>\n",
       "      <td>7.768105</td>\n",
       "      <td>0.215320</td>\n",
       "      <td>0.334758</td>\n",
       "      <td>0.065480</td>\n",
       "      <td>0.494778</td>\n",
       "      <td>0.366896</td>\n",
       "      <td>0.341160</td>\n",
       "      <td>0.499985</td>\n",
       "      <td>0.499985</td>\n",
       "      <td>0.459236</td>\n",
       "      <td>0.378448</td>\n",
       "      <td>0.482920</td>\n",
       "      <td>0.361370</td>\n",
       "    </tr>\n",
       "    <tr>\n",
       "      <th>min</th>\n",
       "      <td>0.000000</td>\n",
       "      <td>0.080000</td>\n",
       "      <td>0.000000</td>\n",
       "      <td>0.000000</td>\n",
       "      <td>0.000000</td>\n",
       "      <td>55.120000</td>\n",
       "      <td>10.300000</td>\n",
       "      <td>0.000000</td>\n",
       "      <td>0.000000</td>\n",
       "      <td>0.000000</td>\n",
       "      <td>0.000000</td>\n",
       "      <td>0.000000</td>\n",
       "      <td>0.000000</td>\n",
       "      <td>0.000000</td>\n",
       "      <td>0.000000</td>\n",
       "      <td>0.000000</td>\n",
       "      <td>0.000000</td>\n",
       "      <td>0.000000</td>\n",
       "      <td>0.000000</td>\n",
       "    </tr>\n",
       "    <tr>\n",
       "      <th>25%</th>\n",
       "      <td>0.000000</td>\n",
       "      <td>25.000000</td>\n",
       "      <td>0.000000</td>\n",
       "      <td>0.000000</td>\n",
       "      <td>0.000000</td>\n",
       "      <td>77.245000</td>\n",
       "      <td>23.700000</td>\n",
       "      <td>0.000000</td>\n",
       "      <td>0.000000</td>\n",
       "      <td>0.000000</td>\n",
       "      <td>0.000000</td>\n",
       "      <td>0.000000</td>\n",
       "      <td>0.000000</td>\n",
       "      <td>0.000000</td>\n",
       "      <td>0.000000</td>\n",
       "      <td>0.000000</td>\n",
       "      <td>0.000000</td>\n",
       "      <td>0.000000</td>\n",
       "      <td>0.000000</td>\n",
       "    </tr>\n",
       "    <tr>\n",
       "      <th>50%</th>\n",
       "      <td>1.000000</td>\n",
       "      <td>45.000000</td>\n",
       "      <td>0.000000</td>\n",
       "      <td>0.000000</td>\n",
       "      <td>1.000000</td>\n",
       "      <td>91.885000</td>\n",
       "      <td>28.200000</td>\n",
       "      <td>0.000000</td>\n",
       "      <td>0.000000</td>\n",
       "      <td>0.000000</td>\n",
       "      <td>1.000000</td>\n",
       "      <td>0.000000</td>\n",
       "      <td>0.000000</td>\n",
       "      <td>0.000000</td>\n",
       "      <td>1.000000</td>\n",
       "      <td>0.000000</td>\n",
       "      <td>0.000000</td>\n",
       "      <td>0.000000</td>\n",
       "      <td>0.000000</td>\n",
       "    </tr>\n",
       "    <tr>\n",
       "      <th>75%</th>\n",
       "      <td>1.000000</td>\n",
       "      <td>61.000000</td>\n",
       "      <td>0.000000</td>\n",
       "      <td>0.000000</td>\n",
       "      <td>1.000000</td>\n",
       "      <td>114.090000</td>\n",
       "      <td>33.100000</td>\n",
       "      <td>0.000000</td>\n",
       "      <td>0.000000</td>\n",
       "      <td>0.000000</td>\n",
       "      <td>1.000000</td>\n",
       "      <td>0.000000</td>\n",
       "      <td>0.000000</td>\n",
       "      <td>1.000000</td>\n",
       "      <td>1.000000</td>\n",
       "      <td>1.000000</td>\n",
       "      <td>0.000000</td>\n",
       "      <td>1.000000</td>\n",
       "      <td>0.000000</td>\n",
       "    </tr>\n",
       "    <tr>\n",
       "      <th>max</th>\n",
       "      <td>1.000000</td>\n",
       "      <td>82.000000</td>\n",
       "      <td>1.000000</td>\n",
       "      <td>1.000000</td>\n",
       "      <td>1.000000</td>\n",
       "      <td>271.740000</td>\n",
       "      <td>97.600000</td>\n",
       "      <td>1.000000</td>\n",
       "      <td>1.000000</td>\n",
       "      <td>1.000000</td>\n",
       "      <td>1.000000</td>\n",
       "      <td>1.000000</td>\n",
       "      <td>1.000000</td>\n",
       "      <td>1.000000</td>\n",
       "      <td>1.000000</td>\n",
       "      <td>1.000000</td>\n",
       "      <td>1.000000</td>\n",
       "      <td>1.000000</td>\n",
       "      <td>1.000000</td>\n",
       "    </tr>\n",
       "  </tbody>\n",
       "</table>\n",
       "</div>"
      ],
      "text/plain": [
       "            gender          age  hypertension  heart_disease  ever_married  \\\n",
       "count  5110.000000  5110.000000   5110.000000    5110.000000   5110.000000   \n",
       "mean      0.586106    43.226614      0.097456       0.054012      0.656164   \n",
       "std       0.492578    22.612647      0.296607       0.226063      0.475034   \n",
       "min       0.000000     0.080000      0.000000       0.000000      0.000000   \n",
       "25%       0.000000    25.000000      0.000000       0.000000      0.000000   \n",
       "50%       1.000000    45.000000      0.000000       0.000000      1.000000   \n",
       "75%       1.000000    61.000000      0.000000       0.000000      1.000000   \n",
       "max       1.000000    82.000000      1.000000       1.000000      1.000000   \n",
       "\n",
       "       avg_glucose_level          bmi       stroke  work_type_Govt_job  \\\n",
       "count        5110.000000  5110.000000  5110.000000         5110.000000   \n",
       "mean          106.147677    28.941640     0.048728            0.128571   \n",
       "std            45.283560     7.768105     0.215320            0.334758   \n",
       "min            55.120000    10.300000     0.000000            0.000000   \n",
       "25%            77.245000    23.700000     0.000000            0.000000   \n",
       "50%            91.885000    28.200000     0.000000            0.000000   \n",
       "75%           114.090000    33.100000     0.000000            0.000000   \n",
       "max           271.740000    97.600000     1.000000            1.000000   \n",
       "\n",
       "       work_type_Never_worked  work_type_Private  work_type_Self-employed  \\\n",
       "count             5110.000000        5110.000000              5110.000000   \n",
       "mean                 0.004305           0.572407                 0.160274   \n",
       "std                  0.065480           0.494778                 0.366896   \n",
       "min                  0.000000           0.000000                 0.000000   \n",
       "25%                  0.000000           0.000000                 0.000000   \n",
       "50%                  0.000000           1.000000                 0.000000   \n",
       "75%                  0.000000           1.000000                 0.000000   \n",
       "max                  1.000000           1.000000                 1.000000   \n",
       "\n",
       "       work_type_children  Residence_type_Rural  Residence_type_Urban  \\\n",
       "count         5110.000000           5110.000000           5110.000000   \n",
       "mean             0.134442              0.491977              0.508023   \n",
       "std              0.341160              0.499985              0.499985   \n",
       "min              0.000000              0.000000              0.000000   \n",
       "25%              0.000000              0.000000              0.000000   \n",
       "50%              0.000000              0.000000              1.000000   \n",
       "75%              0.000000              1.000000              1.000000   \n",
       "max              1.000000              1.000000              1.000000   \n",
       "\n",
       "       smoking_status_Unknown  smoking_status_formerly smoked  \\\n",
       "count             5110.000000                     5110.000000   \n",
       "mean                 0.302153                        0.173190   \n",
       "std                  0.459236                        0.378448   \n",
       "min                  0.000000                        0.000000   \n",
       "25%                  0.000000                        0.000000   \n",
       "50%                  0.000000                        0.000000   \n",
       "75%                  1.000000                        0.000000   \n",
       "max                  1.000000                        1.000000   \n",
       "\n",
       "       smoking_status_never smoked  smoking_status_smokes  \n",
       "count                  5110.000000            5110.000000  \n",
       "mean                      0.370254               0.154403  \n",
       "std                       0.482920               0.361370  \n",
       "min                       0.000000               0.000000  \n",
       "25%                       0.000000               0.000000  \n",
       "50%                       0.000000               0.000000  \n",
       "75%                       1.000000               0.000000  \n",
       "max                       1.000000               1.000000  "
      ]
     },
     "execution_count": 8,
     "metadata": {},
     "output_type": "execute_result"
    }
   ],
   "source": [
    "data_fill.describe()"
   ]
  },
  {
   "cell_type": "code",
   "execution_count": 9,
   "id": "0a8de331",
   "metadata": {
    "execution": {
     "iopub.execute_input": "2022-06-07T13:40:33.423129Z",
     "iopub.status.busy": "2022-06-07T13:40:33.422764Z",
     "iopub.status.idle": "2022-06-07T13:40:33.685508Z",
     "shell.execute_reply": "2022-06-07T13:40:33.684459Z"
    },
    "papermill": {
     "duration": 0.271058,
     "end_time": "2022-06-07T13:40:33.688261",
     "exception": false,
     "start_time": "2022-06-07T13:40:33.417203",
     "status": "completed"
    },
    "tags": []
   },
   "outputs": [
    {
     "data": {
      "text/plain": [
       "{'whiskers': [<matplotlib.lines.Line2D at 0x7f9753eca510>,\n",
       "  <matplotlib.lines.Line2D at 0x7f9753eca850>],\n",
       " 'caps': [<matplotlib.lines.Line2D at 0x7f9753ecab90>,\n",
       "  <matplotlib.lines.Line2D at 0x7f9753ecaed0>],\n",
       " 'boxes': [<matplotlib.lines.Line2D at 0x7f9753eca150>],\n",
       " 'medians': [<matplotlib.lines.Line2D at 0x7f9753ed7290>],\n",
       " 'fliers': [<matplotlib.lines.Line2D at 0x7f9753ed75d0>],\n",
       " 'means': []}"
      ]
     },
     "execution_count": 9,
     "metadata": {},
     "output_type": "execute_result"
    },
    {
     "data": {
      "image/png": "[encoded data removed]",
      "text/plain": [
       "<Figure size 720x1080 with 3 Axes>"
      ]
     },
     "metadata": {
      "needs_background": "light"
     },
     "output_type": "display_data"
    }
   ],
   "source": [
    "plt.figure(figsize=(10,15))\n",
    "plt.subplot(3,1,1)\n",
    "plt.boxplot(data=data_fill,x=\"age\")\n",
    "plt.subplot(3,1,2)\n",
    "plt.boxplot(data=data_fill,x=\"avg_glucose_level\")\n",
    "plt.subplot(3,1,3)\n",
    "plt.boxplot(data=data_fill,x=\"bmi\")"
   ]
  },
  {
   "cell_type": "code",
   "execution_count": 10,
   "id": "185266a8",
   "metadata": {
    "execution": {
     "iopub.execute_input": "2022-06-07T13:40:33.700072Z",
     "iopub.status.busy": "2022-06-07T13:40:33.699376Z",
     "iopub.status.idle": "2022-06-07T13:40:33.903971Z",
     "shell.execute_reply": "2022-06-07T13:40:33.903231Z"
    },
    "papermill": {
     "duration": 0.212728,
     "end_time": "2022-06-07T13:40:33.906033",
     "exception": false,
     "start_time": "2022-06-07T13:40:33.693305",
     "status": "completed"
    },
    "tags": []
   },
   "outputs": [],
   "source": [
    "import sklearn\n",
    "from imblearn.over_sampling import SMOTE"
   ]
  },
  {
   "cell_type": "code",
   "execution_count": 11,
   "id": "e213dc26",
   "metadata": {
    "execution": {
     "iopub.execute_input": "2022-06-07T13:40:33.917038Z",
     "iopub.status.busy": "2022-06-07T13:40:33.916317Z",
     "iopub.status.idle": "2022-06-07T13:40:33.921830Z",
     "shell.execute_reply": "2022-06-07T13:40:33.921185Z"
    },
    "papermill": {
     "duration": 0.012783,
     "end_time": "2022-06-07T13:40:33.923447",
     "exception": false,
     "start_time": "2022-06-07T13:40:33.910664",
     "status": "completed"
    },
    "tags": []
   },
   "outputs": [],
   "source": [
    "from sklearn.model_selection import train_test_split\n",
    "from sklearn.ensemble import RandomForestClassifier\n",
    "from sklearn.model_selection import GridSearchCV\n",
    "X = data_fill.loc[:,~data_fill.columns.isin([\"stroke\"])]\n",
    "y = data_fill[\"stroke\"]"
   ]
  },
  {
   "cell_type": "code",
   "execution_count": 12,
   "id": "68a27ad2",
   "metadata": {
    "execution": {
     "iopub.execute_input": "2022-06-07T13:40:33.934117Z",
     "iopub.status.busy": "2022-06-07T13:40:33.933297Z",
     "iopub.status.idle": "2022-06-07T13:40:33.941514Z",
     "shell.execute_reply": "2022-06-07T13:40:33.940957Z"
    },
    "papermill": {
     "duration": 0.015018,
     "end_time": "2022-06-07T13:40:33.942948",
     "exception": false,
     "start_time": "2022-06-07T13:40:33.927930",
     "status": "completed"
    },
    "tags": []
   },
   "outputs": [
    {
     "data": {
      "text/plain": [
       "0.0    4861\n",
       "1.0     249\n",
       "Name: stroke, dtype: int64"
      ]
     },
     "execution_count": 12,
     "metadata": {},
     "output_type": "execute_result"
    }
   ],
   "source": [
    "y.value_counts()"
   ]
  },
  {
   "cell_type": "code",
   "execution_count": 13,
   "id": "2c8ee73b",
   "metadata": {
    "execution": {
     "iopub.execute_input": "2022-06-07T13:40:33.953753Z",
     "iopub.status.busy": "2022-06-07T13:40:33.953203Z",
     "iopub.status.idle": "2022-06-07T13:40:33.984603Z",
     "shell.execute_reply": "2022-06-07T13:40:33.983489Z"
    },
    "papermill": {
     "duration": 0.040112,
     "end_time": "2022-06-07T13:40:33.987520",
     "exception": false,
     "start_time": "2022-06-07T13:40:33.947408",
     "status": "completed"
    },
    "tags": []
   },
   "outputs": [],
   "source": [
    "ros = SMOTE()\n",
    "X_smote, y_smote = ros.fit_resample(X,y)\n",
    "X_train,X_test,y_train,y_test = train_test_split(X_smote,y_smote,test_size=0.3,stratify=y_smote,random_state=123)"
   ]
  },
  {
   "cell_type": "code",
   "execution_count": 14,
   "id": "bec93925",
   "metadata": {
    "execution": {
     "iopub.execute_input": "2022-06-07T13:40:34.007907Z",
     "iopub.status.busy": "2022-06-07T13:40:34.007358Z",
     "iopub.status.idle": "2022-06-07T13:40:34.797017Z",
     "shell.execute_reply": "2022-06-07T13:40:34.796220Z"
    },
    "papermill": {
     "duration": 0.802244,
     "end_time": "2022-06-07T13:40:34.798950",
     "exception": false,
     "start_time": "2022-06-07T13:40:33.996706",
     "status": "completed"
    },
    "tags": []
   },
   "outputs": [],
   "source": [
    "model = RandomForestClassifier()\n",
    "model.fit(X_train,y_train)\n",
    "y_pred = model.predict(X_test)"
   ]
  },
  {
   "cell_type": "code",
   "execution_count": 15,
   "id": "350dfd4c",
   "metadata": {
    "execution": {
     "iopub.execute_input": "2022-06-07T13:40:34.809693Z",
     "iopub.status.busy": "2022-06-07T13:40:34.809221Z",
     "iopub.status.idle": "2022-06-07T13:40:35.000507Z",
     "shell.execute_reply": "2022-06-07T13:40:34.998961Z"
    },
    "papermill": {
     "duration": 0.200088,
     "end_time": "2022-06-07T13:40:35.003640",
     "exception": false,
     "start_time": "2022-06-07T13:40:34.803552",
     "status": "completed"
    },
    "tags": []
   },
   "outputs": [
    {
     "name": "stdout",
     "output_type": "stream",
     "text": [
      "              precision    recall  f1-score   support\n",
      "\n",
      "         0.0       0.96      0.99      0.97      1459\n",
      "         1.0       0.99      0.96      0.97      1458\n",
      "\n",
      "    accuracy                           0.97      2917\n",
      "   macro avg       0.97      0.97      0.97      2917\n",
      "weighted avg       0.97      0.97      0.97      2917\n",
      "\n"
     ]
    },
    {
     "name": "stderr",
     "output_type": "stream",
     "text": [
      "/opt/conda/lib/python3.7/site-packages/sklearn/utils/deprecation.py:87: FutureWarning: Function plot_roc_curve is deprecated; Function :func:`plot_roc_curve` is deprecated in 1.0 and will be removed in 1.2. Use one of the class methods: :meth:`sklearn.metric.RocCurveDisplay.from_predictions` or :meth:`sklearn.metric.RocCurveDisplay.from_estimator`.\n",
      "  warnings.warn(msg, category=FutureWarning)\n"
     ]
    },
    {
     "data": {
      "image/png": "[encoded data removed]",
      "text/plain": [
       "<Figure size 432x288 with 1 Axes>"
      ]
     },
     "metadata": {
      "needs_background": "light"
     },
     "output_type": "display_data"
    }
   ],
   "source": [
    "from sklearn.metrics import classification_report,plot_roc_curve\n",
    "print(classification_report(y_test,y_pred))\n",
    "plot_roc_curve(model,X_test,y_test)\n",
    "plt.show()"
   ]
  },
  {
   "cell_type": "code",
   "execution_count": null,
   "id": "7bf644cd",
   "metadata": {
    "papermill": {
     "duration": 0.005272,
     "end_time": "2022-06-07T13:40:35.014801",
     "exception": false,
     "start_time": "2022-06-07T13:40:35.009529",
     "status": "completed"
    },
    "tags": []
   },
   "outputs": [],
   "source": []
  }
 ],
 "metadata": {
  "kernelspec": {
   "display_name": "Python 3",
   "language": "python",
   "name": "python3"
  },
  "language_info": {
   "codemirror_mode": {
    "name": "ipython",
    "version": 3
   },
   "file_extension": ".py",
   "mimetype": "text/x-python",
   "name": "python",
   "nbconvert_exporter": "python",
   "pygments_lexer": "ipython3",
   "version": "3.7.12"
  },
  "papermill": {
   "default_parameters": {},
   "duration": 12.08069,
   "end_time": "2022-06-07T13:40:35.740122",
   "environment_variables": {},
   "exception": null,
   "input_path": "__notebook__.ipynb",
   "output_path": "__notebook__.ipynb",
   "parameters": {},
   "start_time": "2022-06-07T13:40:23.659432",
   "version": "2.3.4"
  }
 },
 "nbformat": 4,
 "nbformat_minor": 5
}
